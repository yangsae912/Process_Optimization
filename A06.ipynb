{
  "nbformat": 4,
  "nbformat_minor": 0,
  "metadata": {
    "colab": {
      "provenance": [],
      "authorship_tag": "ABX9TyPsf+/8Azo+npyIvUpr0a5n",
      "include_colab_link": true
    },
    "kernelspec": {
      "name": "python3",
      "display_name": "Python 3"
    },
    "language_info": {
      "name": "python"
    }
  },
  "cells": [
    {
      "cell_type": "markdown",
      "metadata": {
        "id": "view-in-github",
        "colab_type": "text"
      },
      "source": [
        "<a href=\"https://colab.research.google.com/github/yangsae912/go_for_vitamin/blob/main/A06.ipynb\" target=\"_parent\"><img src=\"https://colab.research.google.com/assets/colab-badge.svg\" alt=\"Open In Colab\"/></a>"
      ]
    },
    {
      "cell_type": "code",
      "execution_count": 1,
      "metadata": {
        "id": "kxe11b-zh7Af"
      },
      "outputs": [],
      "source": [
        "import heapq"
      ]
    },
    {
      "cell_type": "code",
      "source": [
        "data = [3,1,2]\n",
        "k = 5"
      ],
      "metadata": {
        "id": "-VdXCGc5oWL8"
      },
      "execution_count": 14,
      "outputs": []
    },
    {
      "cell_type": "code",
      "source": [
        "q = []\n",
        "for i in range(len(data)):\n",
        "  heapq.heappush(q, (data[i], i+1))\n"
      ],
      "metadata": {
        "id": "j9PtUS0eiBPl"
      },
      "execution_count": 15,
      "outputs": []
    },
    {
      "cell_type": "code",
      "source": [
        "q"
      ],
      "metadata": {
        "colab": {
          "base_uri": "https://localhost:8080/"
        },
        "id": "dAvn4Qov4_gz",
        "outputId": "6049601e-be0e-4036-c5b0-edc134061e7a"
      },
      "execution_count": 16,
      "outputs": [
        {
          "output_type": "execute_result",
          "data": {
            "text/plain": [
              "[(1, 2), (3, 1), (2, 3)]"
            ]
          },
          "metadata": {},
          "execution_count": 16
        }
      ]
    },
    {
      "cell_type": "code",
      "source": [
        "answer = 0\n",
        "n = len(data)  # data 리스트의 길이\n",
        "\n",
        "while answer <= k:\n",
        "    for i in range(n):\n",
        "        if data[i] != 0:\n",
        "            data[i] -= 1\n",
        "            if answer == k:\n",
        "                for j in range(n):\n",
        "                    if data[j] != 0:\n",
        "                        data[j] -= 1\n",
        "                        if j < n:  # 인덱스가 범위 내에 있는지 확인\n",
        "                            print(\"i=\", j)\n",
        "                        else:\n",
        "                            print(\"인덱스 범위를 초과했습니다.\")\n",
        "            else:\n",
        "                if answer + 1 < k:\n",
        "                    answer += 1\n",
        "                    print(answer, data)\n"
      ],
      "metadata": {
        "id": "GjVjoI3kicy3"
      },
      "execution_count": null,
      "outputs": []
    },
    {
      "cell_type": "code",
      "source": [
        "sum(data)"
      ],
      "metadata": {
        "colab": {
          "base_uri": "https://localhost:8080/"
        },
        "id": "Klf7pjagoY4D",
        "outputId": "f530fcf2-8d06-40c0-e047-1e4f04bacf5a"
      },
      "execution_count": 4,
      "outputs": [
        {
          "output_type": "execute_result",
          "data": {
            "text/plain": [
              "6"
            ]
          },
          "metadata": {},
          "execution_count": 4
        }
      ]
    },
    {
      "cell_type": "code",
      "source": [],
      "metadata": {
        "id": "-Oreines3q1e"
      },
      "execution_count": null,
      "outputs": []
    }
  ]
}