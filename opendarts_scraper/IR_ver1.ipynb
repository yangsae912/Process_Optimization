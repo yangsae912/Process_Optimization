{
 "cells": [
  {
   "cell_type": "code",
   "execution_count": null,
   "id": "ba1ff7fd",
   "metadata": {},
   "outputs": [],
   "source": [
    "import requests\n",
    "from selenium import webdriver\n",
    "from selenium.webdriver.support.ui import Select\n",
    "import pandas as pd\n",
    "from selenium.webdriver.common.by import By\n",
    "from selenium.webdriver.common.keys import Keys\n",
    "from selenium.webdriver.support.ui import WebDriverWait\n",
    "from selenium.webdriver.support import expected_conditions as EC\n",
    "from selenium.webdriver import ActionChains\n",
    "from bs4 import BeautifulSoup\n",
    "import time\n",
    "import os\n",
    "import requests\n",
    "import codecs\n",
    "import re\n",
    "import zipfile\n",
    "import os\n",
    "import pandas as pd\n",
    "from selenium import webdriver\n",
    "from selenium.webdriver.support.ui import Select\n",
    "from selenium.webdriver.common.by import By\n",
    "from selenium.webdriver.common.keys import Keys\n",
    "from selenium.webdriver.support.ui import WebDriverWait\n",
    "from selenium.webdriver.support import expected_conditions as EC\n",
    "from selenium.webdriver import ActionChains\n",
    "from bs4 import BeautifulSoup\n"
   ]
  },
  {
   "cell_type": "code",
   "execution_count": null,
   "id": "748739b0",
   "metadata": {},
   "outputs": [],
   "source": [
    "driver_path = 'C:/Users/PC-2301007/Downloads/chromedriver_win32'\n",
    "driver = webdriver.Chrome(executable_path=driver_path)\n",
    "url = 'https://dart.fss.or.kr/main.do'\n",
    "driver.get(url)"
   ]
  },
  {
   "cell_type": "code",
   "execution_count": null,
   "id": "5b12ff40",
   "metadata": {},
   "outputs": [],
   "source": [
    "def find_elementss(name_of_id, name_of_option):\n",
    "    input = driver.find_element(name_of_id,name_of_option)\n",
    "    input.click()"
   ]
  },
  {
   "cell_type": "code",
   "execution_count": null,
   "id": "fd03e607",
   "metadata": {},
   "outputs": [],
   "source": [
    "def push_click():\n",
    "    search_button = driver.find_element('link text', '검색')\n",
    "    search_button.click()"
   ]
  },
  {
   "cell_type": "code",
   "execution_count": null,
   "id": "540f4e3c",
   "metadata": {},
   "outputs": [],
   "source": [
    "def find_matches(text, num_matches):\n",
    "    pattern = r'<span class=\"xforms_input\" style=\".*?\">(.*?)</span>'\n",
    "    matches = re.findall(pattern, text)\n",
    "    values = []\n",
    "    for match in matches:\n",
    "        values.append(match)\n",
    "        if len(values) == num_matches:\n",
    "            break\n",
    "    return values"
   ]
  },
  {
   "cell_type": "code",
   "execution_count": null,
   "id": "5868927c",
   "metadata": {},
   "outputs": [],
   "source": [
    "def find_matches_corpname(text):\n",
    "    patter_cor =r'<title>(.*?)</title>' \n",
    "    matches_cor =re.findall(patter_cor, text)\n",
    "    for i in matches_cor:\n",
    "        print(i)"
   ]
  },
  {
   "cell_type": "code",
   "execution_count": null,
   "id": "c45e3b9c",
   "metadata": {},
   "outputs": [],
   "source": [
    "def extract_zip_file(zip_path, extract_path):\n",
    "    with zipfile.ZipFile(zip_path, 'r') as zip_ref:\n",
    "        zip_ref.extractall(extract_path)"
   ]
  },
  {
   "cell_type": "code",
   "execution_count": null,
   "id": "70055345",
   "metadata": {},
   "outputs": [],
   "source": [
    "def extract_files_with_keyword(directory, keyword, extension):\n",
    "    matching_files = []\n",
    "    for file in os.listdir(directory):\n",
    "        if keyword in file and file.endswith(extension):\n",
    "            matching_files.append(file)\n",
    "    return matching_files"
   ]
  },
  {
   "cell_type": "code",
   "execution_count": null,
   "id": "d1756a66",
   "metadata": {},
   "outputs": [],
   "source": [
    "def get_exception_list(file_list, pattern):\n",
    "    exception_list = []\n",
    "    for file in file_list:\n",
    "        match = re.search(pattern, file)\n",
    "        if match:\n",
    "            first_bracket = match.group(1)\n",
    "            exception_list.append(file)\n",
    "    return exception_list"
   ]
  },
  {
   "cell_type": "code",
   "execution_count": null,
   "id": "35b3422c",
   "metadata": {},
   "outputs": [],
   "source": [
    "def get_revised_values(html_content):\n",
    "    values = []\n",
    "    pattern_recog = r'<span style=\"width:242px;font-size:10pt;\">1\\. 배당구분<\\/span>\\s*<\\/td>\\s*<td colspan=\"2\" width=\"352\"> <span class=\"xforms_input\" style=\"width:352px;font-size:10pt;\">(.*?)<\\/span>'\n",
    "    pattern_cate = r'<span style=\"width:242px;font-size:10pt;\">2. 배당종류<\\/span>\\s*<\\/td>\\s*<td colspan=\"2\" width=\"352\"> <span class=\"xforms_input\" style=\"width:352px;font-size:10pt;\">(.*?)<\\/span>'\n",
    "\n",
    "    match_recog = re.search(pattern_recog, html_content)\n",
    "    match_cate = re.search(pattern_cate, html_content)\n",
    "    \n",
    "    if match_recog:\n",
    "            value = match_recog.group(1)\n",
    "            values.append(value)\n",
    "    else:\n",
    "        values.append(\"\")\n",
    "            \n",
    "            \n",
    "    if match_cate:\n",
    "        value_two = match_cate.group(1)\n",
    "        values.append(value_two)\n",
    "    else:\n",
    "        values.append(\"\")\n",
    "\n",
    "    return values\n",
    "\n",
    "\n"
   ]
  },
  {
   "cell_type": "code",
   "execution_count": null,
   "id": "36b48830",
   "metadata": {},
   "outputs": [],
   "source": [
    "def click_next_page(start, end):\n",
    "    for i in range(start, end+1):\n",
    "        if i > start:\n",
    "            # <a> 태그 찾기\n",
    "            a_element = wait.until(EC.presence_of_element_located((By.XPATH, f'//a[text()=\"{i}\"]')))\n",
    "\n",
    "            # <a> 태그 클릭\n",
    "            ActionChains(driver).move_to_element(a_element).click().perform()\n",
    "\n",
    "            # 다음 페이지 로드 대기\n",
    "            wait.until(EC.staleness_of(a_element))\n",
    "\n",
    "        # 추가로 수행할 코드\n",
    "        tbody = driver.find_element('id', 'tbody')\n",
    "        td_elements = tbody.find_elements('css selector', 'td.tL')\n",
    "        id_values = []\n",
    "\n",
    "        for td_element in td_elements:\n",
    "            a_tags = td_element.find_elements('tag name', 'a')\n",
    "            if a_tags and a_tags != '':\n",
    "                a_tag = a_tags[0]\n",
    "                id_values.append(a_tag.get_attribute('id'))\n",
    "\n",
    "        for id in range(1, len(id_values), 2):\n",
    "            find_elementss('id', id_values[id])\n",
    "\n",
    "        # 다운로드 파일 처리\n",
    "        for j in range(1, len(driver.window_handles)):\n",
    "            # 스위치\n",
    "            driver.switch_to.window(driver.window_handles[j])\n",
    "            print(driver.current_window_handle)\n",
    "\n",
    "            # 다운로드 버튼 클릭\n",
    "            download_button = driver.find_element(By.CLASS_NAME, 'btnDown')\n",
    "            download_button.click()\n",
    "\n",
    "            # 새 창으로 전환\n",
    "            driver.switch_to.window(driver.window_handles[-1])\n",
    "\n",
    "            # 링크 클릭\n",
    "            link = driver.find_element(By.CSS_SELECTOR, 'a.btnFile')\n",
    "            href_value = link.get_attribute('href')\n",
    "            link.click()\n",
    "\n",
    "            # 대기\n",
    "            time.sleep(3)\n",
    "\n",
    "        # 핸들 변경\n",
    "        main = driver.window_handles\n",
    "        for k in main:\n",
    "            if k != main[0]:\n",
    "                driver.switch_to.window(k)\n",
    "                driver.close()\n",
    "        driver.switch_to.window(driver.window_handles[0])\n"
   ]
  },
  {
   "cell_type": "code",
   "execution_count": null,
   "id": "d9965761",
   "metadata": {},
   "outputs": [],
   "source": [
    "wait = WebDriverWait(driver, 10)"
   ]
  },
  {
   "cell_type": "markdown",
   "id": "ef1ccbf7",
   "metadata": {},
   "source": [
    "### page load"
   ]
  },
  {
   "cell_type": "code",
   "execution_count": null,
   "id": "138d67ad",
   "metadata": {},
   "outputs": [],
   "source": [
    "report_name_input = driver.find_element('id', 'reportName')\n",
    "report_name_input.send_keys('현금ㆍ현물배당결정')"
   ]
  },
  {
   "cell_type": "code",
   "execution_count": null,
   "id": "32249cb0",
   "metadata": {},
   "outputs": [],
   "source": [
    "push_click()"
   ]
  },
  {
   "cell_type": "code",
   "execution_count": null,
   "id": "63d5926a",
   "metadata": {},
   "outputs": [],
   "source": [
    "try:\n",
    "    wait = WebDriverWait(driver, 10)\n",
    "    element = wait.until(EC.presence_of_element_located((By.ID, 'btnPlus')))\n",
    "\n",
    "            # 요소를 클릭합니다.\n",
    "    element.click()\n",
    "\n",
    "except NoSuchElementException:\n",
    "    print(\"상세조건열기 버튼을 찾을 수 없습니다.\")\n"
   ]
  },
  {
   "cell_type": "code",
   "execution_count": null,
   "id": "52d593ec",
   "metadata": {},
   "outputs": [],
   "source": [
    "corportationType = driver.find_element('id', 'corporationType')\n",
    "select = Select(corportationType)\n",
    "select.select_by_value('P')\n",
    "#corportationType.click()"
   ]
  },
  {
   "cell_type": "code",
   "execution_count": null,
   "id": "7573cb83",
   "metadata": {},
   "outputs": [],
   "source": [
    "push_click()"
   ]
  },
  {
   "cell_type": "markdown",
   "id": "b0770af3",
   "metadata": {},
   "source": [
    "### download file\n",
    "\n",
    "- for loop -> stableelementreference exception"
   ]
  },
  {
   "cell_type": "code",
   "execution_count": null,
   "id": "e7ff3f21",
   "metadata": {},
   "outputs": [],
   "source": [
    "'''for start in range(1, 50, 10):\n",
    "    end = start + 9\n",
    "    click_next_page(start, end)\n",
    "    click_next_page_button(driver)'''"
   ]
  },
  {
   "cell_type": "code",
   "execution_count": null,
   "id": "9bd00fc1",
   "metadata": {},
   "outputs": [],
   "source": [
    "click_next_page(1,10)"
   ]
  },
  {
   "cell_type": "code",
   "execution_count": null,
   "id": "8ad930ef",
   "metadata": {},
   "outputs": [],
   "source": [
    "click_next_page_button(driver)"
   ]
  },
  {
   "cell_type": "code",
   "execution_count": null,
   "id": "2c90a90a",
   "metadata": {},
   "outputs": [],
   "source": [
    "click_next_page(11,20)"
   ]
  },
  {
   "cell_type": "code",
   "execution_count": null,
   "id": "126b25f3",
   "metadata": {},
   "outputs": [],
   "source": [
    "click_next_page_button(driver)"
   ]
  },
  {
   "cell_type": "code",
   "execution_count": null,
   "id": "0ca48ff9",
   "metadata": {},
   "outputs": [],
   "source": [
    "click_next_page(21,30)"
   ]
  },
  {
   "cell_type": "code",
   "execution_count": null,
   "id": "3dc70222",
   "metadata": {},
   "outputs": [],
   "source": [
    "click_next_page_button(driver)"
   ]
  },
  {
   "cell_type": "code",
   "execution_count": null,
   "id": "dc8b94ed",
   "metadata": {},
   "outputs": [],
   "source": [
    "click_next_page(31,40)"
   ]
  },
  {
   "cell_type": "code",
   "execution_count": null,
   "id": "48e92292",
   "metadata": {},
   "outputs": [],
   "source": [
    "click_next_page_button(driver)"
   ]
  },
  {
   "cell_type": "code",
   "execution_count": null,
   "id": "afd1baf1",
   "metadata": {},
   "outputs": [],
   "source": [
    "click_next_page(41,50)"
   ]
  },
  {
   "cell_type": "code",
   "execution_count": null,
   "id": "20353b64",
   "metadata": {},
   "outputs": [],
   "source": [
    "click_next_page_button(driver)"
   ]
  },
  {
   "cell_type": "code",
   "execution_count": null,
   "id": "9327da2a",
   "metadata": {},
   "outputs": [],
   "source": [
    "click_next_page(51,56)"
   ]
  },
  {
   "cell_type": "markdown",
   "id": "4d63b997",
   "metadata": {},
   "source": [
    "### get values from downloaded files"
   ]
  },
  {
   "cell_type": "code",
   "execution_count": null,
   "id": "72ae0e5f",
   "metadata": {},
   "outputs": [],
   "source": [
    "test_paht = r\"C:\\Users\\PC-2301007\\Downloads\"\n",
    "#test_paht = r\"/Users/seyeon/Downloads\""
   ]
  },
  {
   "cell_type": "code",
   "execution_count": null,
   "id": "58a8361a",
   "metadata": {},
   "outputs": [],
   "source": [
    "#zip_path = r\"/Users/seyeon/ir_values\"\n",
    "zip_path = r\"C:\\Users\\PC-2301007\\Downloads\\ir_zip\" "
   ]
  },
  {
   "cell_type": "code",
   "execution_count": null,
   "id": "34535bf8",
   "metadata": {},
   "outputs": [],
   "source": [
    "keyword = \"현금ㆍ현물배당결정\"\n",
    "extension = \".zip\""
   ]
  },
  {
   "cell_type": "code",
   "execution_count": null,
   "id": "98e68f03",
   "metadata": {},
   "outputs": [],
   "source": [
    "filename = extract_files_with_keyword(test_paht,keyword, extension)"
   ]
  },
  {
   "cell_type": "code",
   "execution_count": null,
   "id": "61645b25",
   "metadata": {},
   "outputs": [],
   "source": [
    "file_path_list = []\n",
    "for i in filename:\n",
    "    file_path = os.path.join(test_paht, i)\n",
    "    file_path_list.append(file_path)"
   ]
  },
  {
   "cell_type": "code",
   "execution_count": null,
   "id": "3d87676c",
   "metadata": {},
   "outputs": [],
   "source": [
    "for i in range(len(file_path_list)):\n",
    "    download_path = file_path_list[i]\n",
    "    extract_zip_file(download_path, zip_path)\n",
    "file_list =os.listdir(zip_path)"
   ]
  },
  {
   "cell_type": "code",
   "execution_count": null,
   "id": "66ac4e9b",
   "metadata": {},
   "outputs": [],
   "source": [
    "for filename in file_list:\n",
    "    if filename in file_list_exception:\n",
    "        name_pattern = r'\\[(.*?)\\]'\n",
    "        name_match = re.findall(name_pattern, filename)\n",
    "        name_extracted_text = name_match[0]\n",
    "        name_extracted_text_revised = '[' + name_match[1] + ']'\n",
    "        print(name_extracted_text,name_extracted_text_revised)\n",
    "    else:\n",
    "        name_pattern = r'\\[(.*?)\\]'\n",
    "        name_match = re.findall(name_pattern, filename)\n",
    "        name_extracted_text = name_match[0]\n",
    "        print(name_extracted_text)\n",
    "\n",
    "        "
   ]
  },
  {
   "cell_type": "markdown",
   "id": "35f1739e",
   "metadata": {},
   "source": [
    "### to xlsx file"
   ]
  },
  {
   "cell_type": "code",
   "execution_count": null,
   "id": "1eb75599",
   "metadata": {},
   "outputs": [],
   "source": [
    "existing_file_path = r\"C:\\Users\\PC-2301007\\Downloads\\output4.xlsx\"\n",
    "sheet_name = 'Sheet1'"
   ]
  },
  {
   "cell_type": "code",
   "execution_count": null,
   "id": "cd3991fd",
   "metadata": {},
   "outputs": [],
   "source": [
    "existing_df = pd.read_excel(existing_file_path, sheet_name=sheet_name)"
   ]
  },
  {
   "cell_type": "code",
   "execution_count": null,
   "id": "554c822f",
   "metadata": {},
   "outputs": [],
   "source": [
    "# get [정정]\n",
    "result_list = []\n",
    "exception_pattern = r'\\[(.*?)\\].*?\\[정정\\]'\n",
    "file_list_exception = get_exception_list(file_list, exception_pattern)\n",
    "file_list_exception"
   ]
  },
  {
   "cell_type": "code",
   "execution_count": null,
   "id": "535d9e17",
   "metadata": {},
   "outputs": [],
   "source": [
    "result_list = []\n",
    "\n",
    "for filename in file_list:\n",
    "    file_path = os.path.join(zip_path, filename)\n",
    "    test_f = codecs.open(file_path, 'r', encoding='CP949')\n",
    "    text_test = test_f.read()\n",
    "    test = get_revised_values(text_test)\n",
    "    cor = find_matches_corpname(text_test)\n",
    "    \n",
    "    # 변경할 파일명 로직\n",
    "    name_pattern = r'\\[(.*?)\\]'\n",
    "    name_match = re.findall(name_pattern, filename)\n",
    "    name_extracted_text = name_match[0]\n",
    "    date_pattern = r'\\((.*?)\\)'\n",
    "    date_match = re.findall(date_pattern, filename)\n",
    "    date_extracted_text = date_match[0]\n",
    "\n",
    "    \n",
    "    #1. filename\n",
    "    # Initialize with a default value\n",
    "    if filename in file_list_exception:\n",
    "        name_extracted_text_revised = '[' + name_match[1] + ']'\n",
    "        result_list.append([name_extracted_text, name_extracted_text_revised, date_extracted_text, test[0], test[1]])\n",
    "        \n",
    "    else:\n",
    "        result_list.append([name_extracted_text, ' ', date_extracted_text, test[0], test[1]])\n",
    "\n",
    "    #2. filedate\n",
    "\n",
    "# 새로운 데이터프레임 생성\n",
    "new_df = pd.DataFrame(result_list, columns=['0. 회사명', '1. 정정', '2. 날짜', '3. 배당 종류', '4. 배당 구분'])\n",
    "\n",
    "# 기존 데이터프레임과 새로운 데이터프레임을 연결하여 업데이트\n",
    "updated_df = pd.concat([existing_df, new_df], ignore_index=True)\n",
    "\n",
    "# 엑셀 파일로 저장\n",
    "updated_df.to_excel(existing_file_path, sheet_name=sheet_name, index=False)\n"
   ]
  },
  {
   "cell_type": "markdown",
   "id": "59999456",
   "metadata": {},
   "source": [
    "### for the future"
   ]
  },
  {
   "cell_type": "code",
   "execution_count": null,
   "id": "d34225e2",
   "metadata": {},
   "outputs": [],
   "source": [
    "#write to excel\n",
    "def write_to_excel(file_path, sheet_name, value):\n",
    "    # 엑셀 파일 열기\n",
    "    wb = openpyxl.load_workbook(file_path)\n",
    "    \n",
    "    # 시트 선택\n",
    "    sheet = wb[sheet_name]\n",
    "    \n",
    "    # 셀에 값 쓰기\n",
    "    sheet.cell(value=value)\n",
    "    \n",
    "    # 변경 내용 저장\n",
    "    wb.save(file_path)\n",
    "    \n",
    "    # 엑셀 파일 닫기\n",
    "    wb.close()\n"
   ]
  },
  {
   "cell_type": "code",
   "execution_count": null,
   "id": "5da58cbe",
   "metadata": {},
   "outputs": [],
   "source": [
    "#window_hanldes\n",
    "main = driver.window_handles\n",
    "for i in main:\n",
    "    if i != main[0]:\n",
    "        driver.switch_to.window(i)\n",
    "        driver.close()\n",
    "driver.switch_to.window(driver.window_handles[0])"
   ]
  },
  {
   "cell_type": "code",
   "execution_count": null,
   "id": "1950cc21",
   "metadata": {},
   "outputs": [],
   "source": []
  },
  {
   "cell_type": "code",
   "execution_count": null,
   "id": "6edfcc83",
   "metadata": {},
   "outputs": [],
   "source": []
  },
  {
   "cell_type": "code",
   "execution_count": null,
   "id": "25f82d3f",
   "metadata": {},
   "outputs": [],
   "source": []
  },
  {
   "cell_type": "code",
   "execution_count": null,
   "id": "4fcb3e39",
   "metadata": {},
   "outputs": [],
   "source": []
  },
  {
   "cell_type": "code",
   "execution_count": null,
   "id": "18f5364f",
   "metadata": {},
   "outputs": [],
   "source": []
  },
  {
   "cell_type": "code",
   "execution_count": null,
   "id": "12044b3a",
   "metadata": {},
   "outputs": [],
   "source": []
  },
  {
   "cell_type": "code",
   "execution_count": null,
   "id": "2bd73408",
   "metadata": {},
   "outputs": [],
   "source": []
  },
  {
   "cell_type": "code",
   "execution_count": null,
   "id": "8f418ed9",
   "metadata": {},
   "outputs": [],
   "source": []
  },
  {
   "cell_type": "code",
   "execution_count": null,
   "id": "6a3c2259",
   "metadata": {},
   "outputs": [],
   "source": []
  },
  {
   "cell_type": "code",
   "execution_count": null,
   "id": "68f7914f",
   "metadata": {},
   "outputs": [],
   "source": []
  },
  {
   "cell_type": "code",
   "execution_count": null,
   "id": "a77b1551",
   "metadata": {},
   "outputs": [],
   "source": []
  },
  {
   "cell_type": "code",
   "execution_count": null,
   "id": "642a8ba8",
   "metadata": {},
   "outputs": [],
   "source": []
  },
  {
   "cell_type": "code",
   "execution_count": null,
   "id": "17e2a1a9",
   "metadata": {},
   "outputs": [],
   "source": []
  },
  {
   "cell_type": "code",
   "execution_count": null,
   "id": "0adfcd1f",
   "metadata": {},
   "outputs": [],
   "source": []
  },
  {
   "cell_type": "code",
   "execution_count": null,
   "id": "e23310fb",
   "metadata": {},
   "outputs": [],
   "source": []
  },
  {
   "cell_type": "code",
   "execution_count": null,
   "id": "7abde509",
   "metadata": {},
   "outputs": [],
   "source": []
  },
  {
   "cell_type": "code",
   "execution_count": null,
   "id": "4b76dd38",
   "metadata": {},
   "outputs": [],
   "source": []
  },
  {
   "cell_type": "code",
   "execution_count": null,
   "id": "29367587",
   "metadata": {},
   "outputs": [],
   "source": []
  },
  {
   "cell_type": "code",
   "execution_count": null,
   "id": "bc994129",
   "metadata": {},
   "outputs": [],
   "source": []
  },
  {
   "cell_type": "code",
   "execution_count": null,
   "id": "c3122e73",
   "metadata": {},
   "outputs": [],
   "source": []
  },
  {
   "cell_type": "code",
   "execution_count": null,
   "id": "6ff7f077",
   "metadata": {},
   "outputs": [],
   "source": []
  },
  {
   "cell_type": "code",
   "execution_count": null,
   "id": "cfc48155",
   "metadata": {},
   "outputs": [],
   "source": []
  },
  {
   "cell_type": "code",
   "execution_count": null,
   "id": "3cc7aace",
   "metadata": {},
   "outputs": [],
   "source": []
  },
  {
   "cell_type": "code",
   "execution_count": null,
   "id": "a6a9dc5f",
   "metadata": {},
   "outputs": [],
   "source": []
  },
  {
   "cell_type": "code",
   "execution_count": null,
   "id": "11fec013",
   "metadata": {},
   "outputs": [],
   "source": []
  },
  {
   "cell_type": "code",
   "execution_count": null,
   "id": "9a0ba39f",
   "metadata": {},
   "outputs": [],
   "source": []
  },
  {
   "cell_type": "code",
   "execution_count": null,
   "id": "388eef4e",
   "metadata": {},
   "outputs": [],
   "source": []
  },
  {
   "cell_type": "code",
   "execution_count": null,
   "id": "032b021e",
   "metadata": {},
   "outputs": [],
   "source": []
  },
  {
   "cell_type": "code",
   "execution_count": null,
   "id": "a3b2dc6d",
   "metadata": {},
   "outputs": [],
   "source": []
  },
  {
   "cell_type": "code",
   "execution_count": null,
   "id": "97528680",
   "metadata": {},
   "outputs": [],
   "source": []
  },
  {
   "cell_type": "code",
   "execution_count": null,
   "id": "3486d220",
   "metadata": {},
   "outputs": [],
   "source": []
  },
  {
   "cell_type": "code",
   "execution_count": null,
   "id": "7a4ff1b6",
   "metadata": {},
   "outputs": [],
   "source": []
  },
  {
   "cell_type": "code",
   "execution_count": null,
   "id": "d2b02cee",
   "metadata": {},
   "outputs": [],
   "source": []
  },
  {
   "cell_type": "code",
   "execution_count": null,
   "id": "1608d73d",
   "metadata": {},
   "outputs": [],
   "source": []
  },
  {
   "cell_type": "code",
   "execution_count": null,
   "id": "4d6f34af",
   "metadata": {},
   "outputs": [],
   "source": []
  }
 ],
 "metadata": {
  "kernelspec": {
   "display_name": "Python 3 (ipykernel)",
   "language": "python",
   "name": "python3"
  },
  "language_info": {
   "codemirror_mode": {
    "name": "ipython",
    "version": 3
   },
   "file_extension": ".py",
   "mimetype": "text/x-python",
   "name": "python",
   "nbconvert_exporter": "python",
   "pygments_lexer": "ipython3",
   "version": "3.10.8"
  }
 },
 "nbformat": 4,
 "nbformat_minor": 5
}
